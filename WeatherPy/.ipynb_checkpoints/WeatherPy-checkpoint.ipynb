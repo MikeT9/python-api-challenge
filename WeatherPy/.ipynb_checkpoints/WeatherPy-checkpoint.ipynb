{
 "cells": [
  {
   "cell_type": "markdown",
   "metadata": {},
   "source": [
    "# WeatherPy\n",
    "----\n",
    "\n",
    "#### Note\n",
    "* Instructions have been included for each segment. You do not have to follow them exactly, but they are included to help you think through the steps."
   ]
  },
  {
   "cell_type": "code",
   "execution_count": 1,
   "metadata": {
    "scrolled": true
   },
   "outputs": [],
   "source": [
    "# Dependencies and Setup\n",
    "import matplotlib.pyplot as plt\n",
    "import pandas as pd\n",
    "import numpy as np\n",
    "import requests\n",
    "import json\n",
    "import time\n",
    "import scipy.stats as st\n",
    "from scipy.stats import linregress\n",
    "\n",
    "\n",
    "# Import API key\n",
    "from api_keys import weather_api_key\n",
    "\n",
    "# Incorporated citipy to determine city based on latitude and longitude\n",
    "from citipy import citipy\n",
    "\n",
    "url = \"http://api.openweathermap.org/data/2.5/weather?\"\n",
    "units = \"imperial\"\n",
    "\n",
    "# Build query URL and request your results in Celsius\n",
    "query_url = f\"{url}appid={weather_api_key}&units={units}&q=\"\n",
    "\n",
    "# Range of latitudes and longitudes\n",
    "lat_range = (-90, 90)\n",
    "lng_range = (-180, 180)"
   ]
  },
  {
   "cell_type": "markdown",
   "metadata": {},
   "source": [
    "## Generate Cities List"
   ]
  },
  {
   "cell_type": "code",
   "execution_count": 2,
   "metadata": {},
   "outputs": [
    {
     "data": {
      "text/plain": [
       "609"
      ]
     },
     "execution_count": 2,
     "metadata": {},
     "output_type": "execute_result"
    }
   ],
   "source": [
    "# List for holding lat_lngs and cities\n",
    "lat_lngs = []\n",
    "cities = []\n",
    "\n",
    "# Create a set of random lat and lng combinations\n",
    "lats = np.random.uniform(lat_range[0], lat_range[1], size=1500)\n",
    "lngs = np.random.uniform(lng_range[0], lng_range[1], size=1500)\n",
    "lat_lngs = zip(lats, lngs)\n",
    "\n",
    "# Identify nearest city for each lat, lng combination\n",
    "for lat_lng in lat_lngs:\n",
    "    city = citipy.nearest_city(lat_lng[0], lat_lng[1]).city_name\n",
    "    \n",
    "    # If the city is unique, then add it to a our cities list\n",
    "    if city not in cities:\n",
    "        cities.append(city)\n",
    "\n",
    "# Print the city count to confirm sufficient count\n",
    "len(cities)"
   ]
  },
  {
   "cell_type": "code",
   "execution_count": 3,
   "metadata": {},
   "outputs": [
    {
     "name": "stdout",
     "output_type": "stream",
     "text": [
      "{\n",
      "    \"coord\": {\n",
      "        \"lon\": 117.4893,\n",
      "        \"lat\": 26.2151\n",
      "    },\n",
      "    \"weather\": [\n",
      "        {\n",
      "            \"id\": 804,\n",
      "            \"main\": \"Clouds\",\n",
      "            \"description\": \"overcast clouds\",\n",
      "            \"icon\": \"04n\"\n",
      "        }\n",
      "    ],\n",
      "    \"base\": \"stations\",\n",
      "    \"main\": {\n",
      "        \"temp\": 60.39,\n",
      "        \"feels_like\": 60.89,\n",
      "        \"temp_min\": 60.39,\n",
      "        \"temp_max\": 60.39,\n",
      "        \"pressure\": 1023,\n",
      "        \"humidity\": 87,\n",
      "        \"sea_level\": 1023,\n",
      "        \"grnd_level\": 1002\n",
      "    },\n",
      "    \"visibility\": 10000,\n",
      "    \"wind\": {\n",
      "        \"speed\": 2.73,\n",
      "        \"deg\": 26\n",
      "    },\n",
      "    \"clouds\": {\n",
      "        \"all\": 98\n",
      "    },\n",
      "    \"dt\": 1615327585,\n",
      "    \"sys\": {\n",
      "        \"country\": \"CN\",\n",
      "        \"sunrise\": 1615328699,\n",
      "        \"sunset\": 1615371361\n",
      "    },\n",
      "    \"timezone\": 28800,\n",
      "    \"id\": 1796663,\n",
      "    \"name\": \"Bantou\",\n",
      "    \"cod\": 200\n",
      "}\n"
     ]
    }
   ],
   "source": [
    "response = requests.get(query_url + cities[0]).json()\n",
    "print(json.dumps(response, indent = 4))"
   ]
  },
  {
   "cell_type": "markdown",
   "metadata": {},
   "source": [
    "### Perform API Calls\n",
    "* Perform a weather check on each city using a series of successive API calls.\n",
    "* Include a print log of each city as it'sbeing processed (with the city number and city name).\n"
   ]
  },
  {
   "cell_type": "code",
   "execution_count": 4,
   "metadata": {
    "scrolled": true
   },
   "outputs": [
    {
     "name": "stdout",
     "output_type": "stream",
     "text": [
      "Processing Name: Bantou ID: 1796663\n",
      "Processing Name: Presidencia Roque Sáenz Peña ID: 3840300\n",
      "Processing Name: Punta Arenas ID: 3874787\n",
      "Processing Name: Kudahuvadhoo ID: 1337607\n",
      "Processing Name: Albany ID: 5106841\n",
      "Processing Name: Novopokrovka ID: 699328\n",
      "Processing Name: Ushuaia ID: 3833367\n",
      "Processing Name: Swan Hill ID: 2147756\n",
      "Processing Name: Mar del Plata ID: 3430863\n",
      "Processing Name: Moerai ID: 4034188\n",
      "Processing Name: Quatre Cocos ID: 1106643\n",
      "Processing Name: Busselton ID: 2075265\n",
      "Processing Name: Tākestān ID: 113491\n",
      "Processing Name: Charters Towers ID: 2171722\n",
      "Processing Name: Aklavik ID: 5882953\n",
      "Processing Name: Bengkulu ID: 1649150\n",
      "Processing Name: Bluff ID: 2206939\n",
      "--------------------------------------------------------------------\n",
      "Warning: belushya guba data is unavailable\n",
      "--------------------------------------------------------------------\n",
      "Processing Name: Barrow ID: 5880054\n",
      "--------------------------------------------------------------------\n",
      "Warning: tsihombe data is unavailable\n",
      "--------------------------------------------------------------------\n",
      "Processing Name: Vaini ID: 4032243\n",
      "Processing Name: Bethel ID: 5282297\n",
      "Processing Name: Cidreira ID: 3466165\n",
      "Processing Name: Airai ID: 1651810\n",
      "Processing Name: Hong Kong ID: 1819729\n",
      "Processing Name: Wenatchee ID: 5815342\n",
      "Processing Name: Kapaa ID: 5848280\n",
      "Processing Name: Srednekolymsk ID: 2121025\n",
      "Processing Name: Saint-Louis ID: 2246451\n",
      "Processing Name: Trincomalee ID: 1226260\n",
      "Processing Name: Cape Town ID: 3369157\n",
      "Processing Name: Arraial do Cabo ID: 3471451\n",
      "Processing Name: Cocobeach ID: 2401357\n",
      "Processing Name: Geraldton ID: 2070998\n",
      "Processing Name: Kahului ID: 5847411\n",
      "Processing Name: Biltine ID: 244878\n",
      "Processing Name: Oyama ID: 1853483\n",
      "Processing Name: Sambava ID: 1056899\n",
      "--------------------------------------------------------------------\n",
      "Warning: taolanaro data is unavailable\n",
      "--------------------------------------------------------------------\n",
      "Processing Name: Donna ID: 4686593\n",
      "Processing Name: Lázaro Cárdenas ID: 4026082\n",
      "--------------------------------------------------------------------\n",
      "Warning: karakendzha data is unavailable\n",
      "--------------------------------------------------------------------\n",
      "Processing Name: College ID: 5859699\n",
      "Processing Name: Tiksi ID: 2015306\n",
      "Processing Name: Mungwi ID: 904241\n",
      "Processing Name: Kupang ID: 2057087\n",
      "Processing Name: Narsaq ID: 3421719\n",
      "Processing Name: Bredasdorp ID: 1015776\n",
      "Processing Name: Oberá ID: 3430340\n",
      "--------------------------------------------------------------------\n",
      "Warning: amderma data is unavailable\n",
      "--------------------------------------------------------------------\n",
      "Processing Name: Hithadhoo ID: 1282256\n",
      "--------------------------------------------------------------------\n",
      "Warning: vaitupu data is unavailable\n",
      "--------------------------------------------------------------------\n",
      "Processing Name: Butaritari ID: 2110227\n",
      "Processing Name: Khor ID: 2022317\n",
      "Processing Name: Gizo Government Station ID: 2108857\n",
      "Processing Name: Ribeira Grande ID: 3372707\n",
      "Processing Name: Fairbanks ID: 5861897\n",
      "Processing Name: Mataura ID: 6201424\n",
      "Processing Name: Hermanus ID: 3366880\n",
      "Processing Name: Cândido Mendes ID: 3403395\n",
      "Processing Name: Atuona ID: 4020109\n",
      "Processing Name: Saldanha ID: 3361934\n",
      "Processing Name: Dāmghān ID: 138025\n",
      "Processing Name: Norman Wells ID: 6089245\n",
      "Processing Name: Kavieng ID: 2094342\n",
      "Processing Name: Saint-François ID: 2980080\n",
      "Processing Name: Port Blair ID: 1259385\n",
      "Processing Name: Hobart ID: 2163355\n",
      "Processing Name: Markala ID: 2453662\n",
      "Processing Name: Zhalantun ID: 2033225\n",
      "Processing Name: Clyde River ID: 5924351\n",
      "Processing Name: Avarua ID: 4035715\n",
      "Processing Name: Khorixas ID: 3356213\n",
      "Processing Name: Kédougou ID: 2250645\n",
      "Processing Name: Te Anau ID: 2181625\n",
      "Processing Name: Yuzhnyy ID: 1485627\n",
      "Processing Name: Maţāy ID: 352628\n",
      "Processing Name: Naraina ID: 1261872\n",
      "Processing Name: Port Elizabeth ID: 964420\n",
      "Processing Name: Guayanilla ID: 4565111\n",
      "Processing Name: Broome ID: 5110365\n",
      "Processing Name: Dunedin ID: 2191562\n",
      "Processing Name: Rikitea ID: 4030556\n",
      "Processing Name: Ahipara ID: 2194098\n",
      "Processing Name: Pevek ID: 2122090\n",
      "Processing Name: La Palma ID: 5364022\n",
      "Processing Name: Thompson ID: 6165406\n",
      "Processing Name: São Raimundo Nonato ID: 3388145\n",
      "Processing Name: Korla ID: 1529376\n",
      "Processing Name: Nikolskoye ID: 546105\n",
      "Processing Name: St. George's ID: 3579925\n",
      "Processing Name: Saskylakh ID: 2017155\n",
      "Processing Name: Ereymentau ID: 1524302\n",
      "Processing Name: Yellowknife ID: 6185377\n",
      "Processing Name: Ponta do Sol ID: 2264557\n",
      "Processing Name: Tres Arroyos ID: 3833859\n",
      "Processing Name: Mount Isa ID: 2065594\n",
      "Processing Name: Vila Velha ID: 3445026\n",
      "Processing Name: Husavik ID: 2629833\n",
      "Processing Name: Lorengau ID: 2092164\n",
      "Processing Name: Örnsköldsvik ID: 2686469\n",
      "Processing Name: Bayir ID: 304183\n",
      "--------------------------------------------------------------------\n",
      "Warning: barentsburg data is unavailable\n",
      "--------------------------------------------------------------------\n",
      "Processing Name: Machaneng ID: 933488\n",
      "Processing Name: Sirte ID: 2210554\n",
      "Processing Name: Ardabil ID: 143083\n",
      "Processing Name: Mbala ID: 176146\n",
      "Processing Name: Debre Sīna ID: 339692\n",
      "Processing Name: Cherskiy ID: 2126199\n",
      "--------------------------------------------------------------------\n",
      "Warning: sataua data is unavailable\n",
      "--------------------------------------------------------------------\n",
      "Processing Name: Saint-Philippe ID: 935215\n",
      "Processing Name: San Quintín ID: 3984997\n",
      "Processing Name: Dingcheng ID: 1807553\n",
      "--------------------------------------------------------------------\n",
      "Warning: illoqqortoormiut data is unavailable\n",
      "--------------------------------------------------------------------\n",
      "Processing Name: Mount Gambier ID: 2156643\n",
      "Processing Name: Torbay ID: 6167817\n",
      "Processing Name: Klyuchi ID: 1503153\n",
      "Processing Name: Tuatapere ID: 2180815\n",
      "--------------------------------------------------------------------\n",
      "Warning: karaul data is unavailable\n",
      "--------------------------------------------------------------------\n",
      "Processing Name: Igrim ID: 1505965\n",
      "Processing Name: Codrington ID: 2171099\n",
      "Processing Name: Mahébourg ID: 934322\n",
      "--------------------------------------------------------------------\n",
      "Warning: palabuhanratu data is unavailable\n",
      "--------------------------------------------------------------------\n",
      "Processing Name: Talnakh ID: 1490256\n",
      "Processing Name: Katangli ID: 2122783\n",
      "Processing Name: Provideniya ID: 4031574\n",
      "Processing Name: Coahuayana Viejo ID: 4013679\n",
      "Processing Name: Nishihara ID: 1855342\n",
      "Processing Name: Bodden Town ID: 3580733\n",
      "Processing Name: Santana do Matos ID: 3389381\n",
      "Processing Name: Port Alfred ID: 964432\n",
      "--------------------------------------------------------------------\n",
      "Warning: bolungarvik data is unavailable\n",
      "--------------------------------------------------------------------\n",
      "Processing Name: Milpitas ID: 5373327\n",
      "Processing Name: Hilo ID: 5855927\n",
      "Processing Name: Poya ID: 2138522\n",
      "Processing Name: Mehamn ID: 778707\n",
      "Processing Name: Port Moresby ID: 2088122\n",
      "Processing Name: Nyimba ID: 900056\n",
      "Processing Name: Richards Bay ID: 962367\n",
      "Processing Name: Hvide Sande ID: 2619537\n",
      "Processing Name: Wakema ID: 1289828\n",
      "Processing Name: Tuktoyaktuk ID: 6170031\n",
      "Processing Name: Pochutla ID: 3517970\n",
      "Processing Name: Fort Nelson ID: 5955902\n",
      "Processing Name: Praia Grande ID: 3452465\n",
      "Processing Name: Mwingi ID: 184921\n",
      "Processing Name: Antofagasta ID: 3899539\n",
      "Processing Name: Pionki ID: 762199\n",
      "Processing Name: Avilés ID: 3129135\n",
      "Processing Name: Touros ID: 3386213\n",
      "--------------------------------------------------------------------\n",
      "Warning: mys shmidta data is unavailable\n",
      "--------------------------------------------------------------------\n",
      "Processing Name: Jaltenango ID: 3532856\n",
      "Processing Name: São Miguel do Araguaia ID: 3448455\n",
      "Processing Name: Klaksvík ID: 2618795\n",
      "Processing Name: Nuuk ID: 3421319\n",
      "Processing Name: Loreto ID: 3998291\n",
      "Processing Name: Grand Gaube ID: 934479\n",
      "Processing Name: Kralendijk ID: 3513563\n",
      "Processing Name: Batetskiy ID: 578732\n",
      "Processing Name: Dikson ID: 1507390\n",
      "Processing Name: Noumea ID: 2139521\n",
      "Processing Name: Beringovskiy ID: 2126710\n",
      "Processing Name: Saint-Augustin ID: 6137462\n",
      "Processing Name: São João da Barra ID: 3448903\n",
      "--------------------------------------------------------------------\n",
      "Warning: nizhneyansk data is unavailable\n",
      "--------------------------------------------------------------------\n"
     ]
    },
    {
     "name": "stdout",
     "output_type": "stream",
     "text": [
      "--------------------------------------------------------------------\n",
      "Warning: tarudant data is unavailable\n",
      "--------------------------------------------------------------------\n",
      "Processing Name: Alofi ID: 4036284\n",
      "Processing Name: Kaka ID: 161901\n",
      "Processing Name: Qaanaaq ID: 3831208\n",
      "Processing Name: Xiongyue ID: 2033630\n",
      "Processing Name: Omsukchan ID: 2122493\n",
      "Processing Name: Tynda ID: 2014718\n",
      "Processing Name: East London ID: 1006984\n",
      "Processing Name: Sharan ID: 495770\n",
      "Processing Name: Le Port ID: 935616\n",
      "Processing Name: Kruisfontein ID: 986717\n",
      "Processing Name: Sitka ID: 5557293\n",
      "Processing Name: Sur ID: 286245\n",
      "Processing Name: Flinders ID: 6255012\n",
      "Processing Name: Bahir Dar ID: 342884\n",
      "Processing Name: Gostyń ID: 3098625\n",
      "Processing Name: Labuan ID: 1733782\n",
      "Processing Name: Hattiesburg ID: 4429295\n",
      "Processing Name: Faanui ID: 4034551\n",
      "Processing Name: Vao ID: 2137773\n",
      "Processing Name: Mīzan Teferī ID: 330534\n",
      "Processing Name: Borūjerd ID: 140044\n",
      "Processing Name: Guerrero Negro ID: 4021858\n",
      "Processing Name: Coquimbo ID: 3893629\n",
      "Processing Name: Vardø ID: 777019\n",
      "Processing Name: Puerto Ayora ID: 3652764\n",
      "Processing Name: Bam ID: 141736\n",
      "Processing Name: Port Lincoln ID: 2063036\n",
      "Processing Name: Ratnagiri ID: 1258338\n",
      "Processing Name: Freetown ID: 2409306\n",
      "Processing Name: Walvis Bay ID: 3359638\n",
      "Processing Name: Cabo San Lucas ID: 3985710\n",
      "Processing Name: Jilin ID: 2036500\n",
      "Processing Name: Nanortalik ID: 3421765\n",
      "Processing Name: New Norfolk ID: 2155415\n",
      "Processing Name: Severo-Yeniseyskiy ID: 1492566\n",
      "Processing Name: Berlevåg ID: 780687\n",
      "Processing Name: Cockburn Town ID: 3576994\n",
      "Processing Name: Kerrville ID: 4703078\n",
      "Processing Name: Pocola ID: 4548233\n",
      "Processing Name: Castro ID: 3466704\n",
      "Processing Name: Ayr ID: 2656708\n",
      "Processing Name: São Filipe ID: 3374210\n",
      "Processing Name: Mashhad ID: 124665\n",
      "Processing Name: Poieni ID: 670213\n",
      "Processing Name: Lompoc ID: 5367788\n",
      "Processing Name: Ponta Delgada ID: 3372783\n",
      "Processing Name: Armidale ID: 2177671\n",
      "Processing Name: Chara ID: 2025630\n",
      "Processing Name: Ripiceni ID: 668849\n",
      "Processing Name: Beruwala ID: 1249931\n",
      "Processing Name: Carnarvon ID: 2074865\n",
      "Processing Name: Samagaltay ID: 1493155\n",
      "Processing Name: Namatanai ID: 2090021\n",
      "Processing Name: Sagua de Tánamo ID: 3541446\n",
      "Processing Name: Salalah ID: 286621\n",
      "Processing Name: Hobyo ID: 57000\n",
      "Processing Name: Kumluca ID: 305681\n",
      "Processing Name: Saint George ID: 5546220\n",
      "Processing Name: Saint Paul Harbor ID: 5866583\n",
      "Processing Name: Fortuna ID: 5563839\n",
      "Processing Name: San Ramon ID: 5392593\n",
      "Processing Name: Labuhan ID: 8079926\n",
      "Processing Name: Verkhnyaya Toyma ID: 474470\n",
      "Processing Name: Ulladulla ID: 2145554\n",
      "Processing Name: Les Cayes ID: 3728097\n",
      "Processing Name: Castelfiorentino ID: 6540469\n",
      "Processing Name: Broken Hill ID: 2173911\n",
      "Processing Name: Mergen ID: 2035601\n",
      "Processing Name: Naze ID: 1855540\n",
      "--------------------------------------------------------------------\n",
      "Warning: warqla data is unavailable\n",
      "--------------------------------------------------------------------\n",
      "--------------------------------------------------------------------\n",
      "Warning: kuanshan data is unavailable\n",
      "--------------------------------------------------------------------\n",
      "Processing Name: Claremont ID: 5337696\n",
      "Processing Name: Bambous Virieux ID: 1106677\n",
      "Processing Name: Ayagoz ID: 1525988\n",
      "Processing Name: Kaohsiung City ID: 1673820\n",
      "Processing Name: Longyearbyen ID: 2729907\n",
      "Processing Name: Beira ID: 1052373\n",
      "Processing Name: Gimli ID: 5961417\n",
      "Processing Name: Zhoucheng ID: 1920772\n",
      "Processing Name: Mormugao ID: 1263494\n",
      "Processing Name: Adrar ID: 2381972\n",
      "Processing Name: Tasiilaq ID: 3424607\n",
      "Processing Name: Cascas ID: 3698705\n",
      "Processing Name: Tiznit Province ID: 2527087\n",
      "Processing Name: Grants ID: 5469841\n",
      "Processing Name: Vammala ID: 632542\n",
      "Processing Name: Vila Verde ID: 2732326\n",
      "Processing Name: Weymouth ID: 4955336\n",
      "Processing Name: Chabahar ID: 1161724\n",
      "Processing Name: Isangel ID: 2136825\n",
      "Processing Name: Hervey Bay ID: 2146219\n",
      "Processing Name: Rovaniemi ID: 638936\n",
      "Processing Name: Souillac ID: 933995\n",
      "Processing Name: Fenoarivo ID: 1070940\n",
      "Processing Name: Kiunga ID: 2093846\n",
      "Processing Name: Xai-Xai ID: 1024552\n",
      "Processing Name: San Patricio ID: 4726521\n",
      "Processing Name: Lüderitz ID: 3355672\n",
      "Processing Name: Chokurdakh ID: 2126123\n",
      "Processing Name: Jamestown ID: 5122534\n",
      "Processing Name: Nueve de Julio ID: 3842881\n",
      "Processing Name: Coyhaique ID: 3894426\n",
      "Processing Name: Lagoa ID: 3372964\n",
      "Processing Name: Ilulissat ID: 3423146\n",
      "Processing Name: Palmer ID: 4946620\n",
      "Processing Name: Petropavlovsk-Kamchatskiy ID: 2122104\n",
      "Processing Name: Megion ID: 1499053\n",
      "Processing Name: Tutóia ID: 3385899\n",
      "Processing Name: Praia ID: 3374333\n",
      "Processing Name: Nemuro ID: 2128975\n",
      "--------------------------------------------------------------------\n",
      "Warning: ust-kamchatsk data is unavailable\n",
      "--------------------------------------------------------------------\n",
      "Processing Name: Baraboo ID: 5244638\n",
      "Processing Name: Katsuura ID: 2112309\n",
      "Processing Name: Neuquén ID: 3843123\n",
      "Processing Name: Kensington ID: 2161608\n",
      "Processing Name: Falam ID: 1326105\n",
      "Processing Name: White Rock ID: 6180961\n",
      "Processing Name: Sühbaatar ID: 2029156\n",
      "Processing Name: Dingle ID: 1714733\n",
      "Processing Name: Vila Franca do Campo ID: 3372472\n",
      "Processing Name: Taltal ID: 3870243\n",
      "Processing Name: Linguère ID: 2249281\n",
      "Processing Name: Anadyr ID: 2127202\n",
      "Processing Name: Bonavista ID: 5905393\n",
      "Processing Name: Manuk Mangkaw ID: 1701394\n",
      "Processing Name: Port-Gentil ID: 2396518\n",
      "Processing Name: Niihama ID: 1855425\n",
      "Processing Name: Kavaratti ID: 1267390\n",
      "Processing Name: Najrān ID: 103630\n",
      "Processing Name: Puri ID: 1259184\n",
      "--------------------------------------------------------------------\n",
      "Warning: sansai data is unavailable\n",
      "--------------------------------------------------------------------\n",
      "Processing Name: Iqaluit ID: 5983720\n",
      "--------------------------------------------------------------------\n",
      "Warning: kamenskoye data is unavailable\n",
      "--------------------------------------------------------------------\n",
      "Processing Name: Alipur Chatha ID: 1167064\n",
      "Processing Name: Buala ID: 2109528\n",
      "Processing Name: Gambēla ID: 337405\n",
      "Processing Name: Mahon ID: 2514301\n",
      "Processing Name: Arrondissement de Niort ID: 2990354\n",
      "Processing Name: Douentza ID: 2458334\n",
      "Processing Name: Varadero ID: 3534632\n",
      "Processing Name: Severo-Kuril'sk ID: 2121385\n",
      "Processing Name: Pacific Grove ID: 5380437\n",
      "Processing Name: Todos Santos ID: 3981432\n",
      "Processing Name: Jhajha ID: 1269046\n",
      "--------------------------------------------------------------------\n",
      "Warning: tawkar data is unavailable\n",
      "--------------------------------------------------------------------\n",
      "Processing Name: Haines Junction ID: 5969025\n",
      "Processing Name: Sept-Îles ID: 6144312\n",
      "Processing Name: Murmashi ID: 524299\n",
      "Processing Name: Goiatuba ID: 3462371\n",
      "--------------------------------------------------------------------\n",
      "Warning: bur gabo data is unavailable\n",
      "--------------------------------------------------------------------\n",
      "--------------------------------------------------------------------\n",
      "Warning: haibowan data is unavailable\n",
      "--------------------------------------------------------------------\n",
      "Processing Name: Mandalgovi ID: 2030065\n",
      "Processing Name: Laguna ID: 5364271\n",
      "Processing Name: Sakakah ID: 102527\n",
      "Processing Name: Ambilobe ID: 1082243\n",
      "--------------------------------------------------------------------\n",
      "Warning: zabinka data is unavailable\n",
      "--------------------------------------------------------------------\n",
      "Processing Name: Cehegín ID: 2519651\n",
      "Processing Name: Tocopilla ID: 3869716\n",
      "Processing Name: Leningradskiy ID: 2123814\n",
      "Processing Name: Zeya ID: 2012593\n",
      "Processing Name: Marzuq ID: 72181\n",
      "Processing Name: Mayo ID: 4362001\n",
      "Processing Name: Itapirapuã ID: 3460697\n",
      "Processing Name: Franklin ID: 4512214\n",
      "Processing Name: Yatou ID: 1786855\n",
      "--------------------------------------------------------------------\n",
      "Warning: marcona data is unavailable\n",
      "--------------------------------------------------------------------\n",
      "--------------------------------------------------------------------\n",
      "Warning: lolua data is unavailable\n",
      "--------------------------------------------------------------------\n",
      "Processing Name: Togur ID: 1489499\n",
      "Processing Name: Solnechnyy ID: 2016307\n",
      "Processing Name: Kotido ID: 230617\n"
     ]
    },
    {
     "name": "stdout",
     "output_type": "stream",
     "text": [
      "Processing Name: Malinyi ID: 155016\n",
      "Processing Name: Tazovsky ID: 1489853\n",
      "Processing Name: Rosarito ID: 3988392\n",
      "Processing Name: Cooma ID: 2170577\n",
      "Processing Name: Jacqueville ID: 2287778\n",
      "Processing Name: Sinnamary ID: 3380290\n",
      "Processing Name: Nyurba ID: 2018735\n",
      "Processing Name: Warmbad ID: 3352263\n",
      "Processing Name: Gilbués ID: 3398931\n",
      "Processing Name: George Town ID: 1735106\n",
      "Processing Name: Sungurlu ID: 739236\n",
      "Processing Name: Chernyshevskiy ID: 2025456\n",
      "Processing Name: Tsogni ID: 2400547\n",
      "Processing Name: Newport ID: 2641598\n",
      "Processing Name: Antalaha ID: 1071296\n",
      "Processing Name: Rantoul ID: 4907131\n",
      "Processing Name: Tucuruí ID: 3385935\n",
      "Processing Name: Puerto Escondido ID: 3520994\n",
      "--------------------------------------------------------------------\n",
      "Warning: saryshagan data is unavailable\n",
      "--------------------------------------------------------------------\n",
      "Processing Name: Nome ID: 5870133\n",
      "Processing Name: Mabaruma ID: 3377301\n",
      "Processing Name: Bathsheba ID: 3374083\n",
      "Processing Name: Paamiut ID: 3421193\n",
      "Processing Name: Lebyazh'ye ID: 1500764\n",
      "Processing Name: Camacha ID: 2270385\n",
      "--------------------------------------------------------------------\n",
      "Warning: skalistyy data is unavailable\n",
      "--------------------------------------------------------------------\n",
      "Processing Name: Iringa ID: 159071\n",
      "Processing Name: Shenzhen ID: 1795565\n",
      "Processing Name: Havøysund ID: 779622\n",
      "Processing Name: Montrose ID: 5431716\n",
      "Processing Name: Upernavik ID: 3418910\n",
      "--------------------------------------------------------------------\n",
      "Warning: rawannawi data is unavailable\n",
      "--------------------------------------------------------------------\n",
      "--------------------------------------------------------------------\n",
      "Warning: koyilandi data is unavailable\n",
      "--------------------------------------------------------------------\n",
      "Processing Name: Kodinsk ID: 1503037\n",
      "Processing Name: Torata ID: 3927158\n",
      "Processing Name: Khatanga ID: 2022572\n",
      "Processing Name: Carutapera ID: 3402648\n",
      "Processing Name: Piaçabuçu ID: 3454005\n",
      "Processing Name: Palembang ID: 1633070\n",
      "Processing Name: Dwārka ID: 1272140\n",
      "Processing Name: Auki ID: 2109701\n",
      "--------------------------------------------------------------------\n",
      "Warning: samusu data is unavailable\n",
      "--------------------------------------------------------------------\n",
      "Processing Name: Nevşehir ID: 303830\n",
      "Processing Name: Zheleznodorozhnyy ID: 463355\n",
      "Processing Name: Serebryanyy Bor ID: 2016977\n",
      "Processing Name: Esperance ID: 2071860\n",
      "Processing Name: Meulaboh ID: 1214488\n",
      "Processing Name: Iralaya ID: 3608828\n",
      "Processing Name: Eydhafushi ID: 1337606\n",
      "Processing Name: João Pinheiro ID: 3459785\n",
      "--------------------------------------------------------------------\n",
      "Warning: toliary data is unavailable\n",
      "--------------------------------------------------------------------\n",
      "Processing Name: Hofn ID: 2630299\n",
      "--------------------------------------------------------------------\n",
      "Warning: tumannyy data is unavailable\n",
      "--------------------------------------------------------------------\n",
      "--------------------------------------------------------------------\n",
      "Warning: louisbourg data is unavailable\n",
      "--------------------------------------------------------------------\n",
      "Processing Name: Kjøllefjord ID: 779261\n",
      "Processing Name: Zyryanovsk ID: 1516438\n",
      "Processing Name: Yangi Marg`ilon ID: 1513491\n",
      "Processing Name: Omboué ID: 2396853\n",
      "Processing Name: Deputatsky ID: 2028164\n",
      "Processing Name: Cedar City ID: 5536630\n",
      "Processing Name: Kiryat Gat ID: 293842\n",
      "Processing Name: Bac Lieu ID: 1591474\n",
      "--------------------------------------------------------------------\n",
      "Warning: acin data is unavailable\n",
      "--------------------------------------------------------------------\n",
      "Processing Name: Waipawa ID: 2206874\n",
      "Processing Name: Lavrentiya ID: 4031637\n",
      "Processing Name: Kuala Kedah ID: 1736305\n",
      "Processing Name: Grindavik ID: 3416888\n",
      "Processing Name: Juneau ID: 5554072\n",
      "Processing Name: Aripuanã ID: 3665202\n",
      "Processing Name: Sørland ID: 3137469\n",
      "Processing Name: Senneterre ID: 6144195\n",
      "Processing Name: Bohuslav ID: 711867\n",
      "Processing Name: Egvekinot ID: 4031742\n",
      "Processing Name: Biskamzha ID: 1510030\n",
      "Processing Name: Atbasar ID: 1526038\n",
      "Processing Name: Forsytheganj ID: 10722858\n",
      "Processing Name: Morant Bay ID: 3489440\n",
      "Processing Name: Matagalpa ID: 3617708\n",
      "Processing Name: Vitim ID: 2013375\n",
      "Processing Name: Changli ID: 1815656\n",
      "--------------------------------------------------------------------\n",
      "Warning: tawnat data is unavailable\n",
      "--------------------------------------------------------------------\n",
      "Processing Name: Cam Ranh ID: 1586350\n",
      "Processing Name: Karratha ID: 6620339\n",
      "Processing Name: Peştişu Mic ID: 671049\n",
      "Processing Name: Charlestown ID: 2171766\n",
      "--------------------------------------------------------------------\n",
      "Warning: nanded data is unavailable\n",
      "--------------------------------------------------------------------\n",
      "Processing Name: Kieta ID: 2094027\n",
      "Processing Name: Pangnirtung ID: 6096551\n",
      "Processing Name: Hammerfest ID: 779683\n",
      "Processing Name: Buriti ID: 3453837\n",
      "Processing Name: Darhan ID: 2031964\n",
      "Processing Name: Maningrida ID: 2067089\n",
      "Processing Name: Crixás ID: 3465145\n",
      "Processing Name: Faya ID: 110690\n",
      "Processing Name: Coari ID: 3664539\n",
      "--------------------------------------------------------------------\n",
      "Warning: falealupo data is unavailable\n",
      "--------------------------------------------------------------------\n",
      "Processing Name: Longyan ID: 1802276\n",
      "Processing Name: Atambua ID: 1651103\n",
      "Processing Name: Yulara ID: 6355222\n",
      "Processing Name: Kamenka ID: 553766\n",
      "Processing Name: Atasū ID: 1526041\n",
      "Processing Name: Inhambane ID: 1045114\n",
      "Processing Name: Ponte San Nicolò ID: 3170220\n",
      "Processing Name: Saint Anthony ID: 5044290\n",
      "Processing Name: Njombe ID: 151479\n",
      "Processing Name: Leshan ID: 1804153\n",
      "Processing Name: Puerto Limón ID: 3622247\n",
      "Processing Name: Catuday ID: 1717787\n",
      "Processing Name: Māngrol ID: 1263752\n",
      "Processing Name: Ixtapa ID: 4004293\n",
      "Processing Name: Chirnogi ID: 682036\n",
      "Processing Name: Hauterive ID: 3013748\n",
      "Processing Name: Constitución ID: 3893726\n",
      "Processing Name: Gorgan ID: 132892\n",
      "Processing Name: Batagay ID: 2027044\n",
      "Processing Name: Jorochito ID: 3913271\n",
      "Processing Name: Goderich ID: 5962442\n",
      "--------------------------------------------------------------------\n",
      "Warning: grand river south east data is unavailable\n",
      "--------------------------------------------------------------------\n",
      "Processing Name: Candolim ID: 1274989\n",
      "Processing Name: Jumla ID: 1283285\n",
      "Processing Name: Katherine ID: 2068655\n",
      "Processing Name: Yar-Sale ID: 1486321\n",
      "Processing Name: Mackenzie ID: 6063191\n",
      "--------------------------------------------------------------------\n",
      "Warning: attawapiskat data is unavailable\n",
      "--------------------------------------------------------------------\n",
      "Processing Name: Okhotsk ID: 2122605\n",
      "Processing Name: Sri Aman ID: 1735799\n",
      "Processing Name: Port Hardy ID: 6111862\n",
      "Processing Name: Ambanja ID: 1083724\n",
      "Processing Name: Stykkisholmur ID: 3412888\n",
      "Processing Name: Eureka ID: 5563397\n",
      "Processing Name: Ancud ID: 3899695\n",
      "Processing Name: Khilok ID: 2022463\n",
      "Processing Name: Bogovarovo ID: 575480\n",
      "Processing Name: Kirakira ID: 2178753\n",
      "Processing Name: San Miguel de Cozumel ID: 3530103\n",
      "Processing Name: Kushmurun ID: 1519924\n",
      "Processing Name: Tilichiki ID: 2120591\n",
      "Processing Name: Samarai ID: 2132606\n",
      "Processing Name: Soma ID: 300371\n",
      "Processing Name: Piranshahr ID: 121110\n",
      "Processing Name: Nioro ID: 2412408\n",
      "Processing Name: Bairiki Village ID: 7601762\n",
      "Processing Name: Oussouye ID: 2246901\n",
      "Processing Name: Kununurra ID: 2068110\n",
      "Processing Name: Kangaatsiaq ID: 3422683\n",
      "Processing Name: Arrondissement de Rennes ID: 2983989\n",
      "Processing Name: Alyangula ID: 2079582\n",
      "Processing Name: Makkah al Mukarramah ID: 104515\n",
      "--------------------------------------------------------------------\n",
      "Warning: cockburn harbour data is unavailable\n",
      "--------------------------------------------------------------------\n",
      "Processing Name: Scottsbluff ID: 5699404\n",
      "Processing Name: Nakanojōmachi ID: 1855852\n",
      "Processing Name: Kyzyl-Suu ID: 1527497\n",
      "Processing Name: Coyah ID: 2595299\n",
      "Processing Name: Maragogi ID: 3395458\n",
      "Processing Name: Muros ID: 3115824\n",
      "Processing Name: Bull Savanna ID: 3491161\n",
      "--------------------------------------------------------------------\n",
      "Warning: hongan data is unavailable\n",
      "--------------------------------------------------------------------\n"
     ]
    },
    {
     "name": "stdout",
     "output_type": "stream",
     "text": [
      "Processing Name: Phetchaburi ID: 1151416\n",
      "Processing Name: Marabu ID: 1738050\n",
      "Processing Name: São Sebastião ID: 3448257\n",
      "Processing Name: Bloemfontein ID: 1018725\n",
      "Processing Name: Colares ID: 2269142\n",
      "Processing Name: Trairi ID: 3386177\n",
      "Processing Name: Sovetskoye ID: 1491219\n",
      "--------------------------------------------------------------------\n",
      "Warning: umzimvubu data is unavailable\n",
      "--------------------------------------------------------------------\n",
      "Processing Name: Cleethorpes ID: 2652885\n",
      "Processing Name: La Ronge ID: 6050066\n",
      "Processing Name: Veles ID: 785058\n",
      "Processing Name: Comodoro Rivadavia ID: 3860443\n",
      "Processing Name: Praia da Vitória ID: 3372760\n",
      "Processing Name: San Pedro de Macorís ID: 3493032\n",
      "--------------------------------------------------------------------\n",
      "Warning: andevoranto data is unavailable\n",
      "--------------------------------------------------------------------\n",
      "--------------------------------------------------------------------\n",
      "Warning: neos pirgos data is unavailable\n",
      "--------------------------------------------------------------------\n",
      "Processing Name: Kargasok ID: 1504382\n",
      "Processing Name: Ballina ID: 2177069\n",
      "Processing Name: Wanaka ID: 2184707\n",
      "Processing Name: Qaqortoq ID: 3420846\n",
      "Processing Name: Mackay ID: 2159220\n",
      "Processing Name: Bubaque ID: 2374583\n",
      "Processing Name: Tsubata ID: 1849782\n",
      "Processing Name: Itarema ID: 3393692\n",
      "Processing Name: Kalmar ID: 2702261\n",
      "Processing Name: Divo ID: 2289887\n",
      "Processing Name: Barra de Tecoanapa ID: 3516171\n",
      "Processing Name: Pāsighāt ID: 1260206\n",
      "Processing Name: Ambulu ID: 1621313\n",
      "Processing Name: Tabou ID: 2281120\n",
      "Processing Name: Ituiutaba ID: 3460523\n",
      "Processing Name: Barinas ID: 3648546\n",
      "Processing Name: Santo Tomas ID: 1687534\n",
      "--------------------------------------------------------------------\n",
      "Warning: borlange data is unavailable\n",
      "--------------------------------------------------------------------\n",
      "Processing Name: Catia La Mar ID: 3646190\n",
      "Processing Name: Batemans Bay ID: 2176639\n",
      "Processing Name: Wencheng ID: 1791539\n",
      "Processing Name: Pingliang ID: 1798760\n",
      "Processing Name: Narasannapeta ID: 1261853\n",
      "Processing Name: Soyo ID: 2236967\n",
      "Processing Name: Atar ID: 2381334\n",
      "Processing Name: Sawākin ID: 367544\n",
      "Processing Name: Plastun ID: 2017912\n",
      "Processing Name: Sainte-Marie ID: 935255\n",
      "--------------------------------------------------------------------\n",
      "Warning: rungata data is unavailable\n",
      "--------------------------------------------------------------------\n",
      "Processing Name: Naryan-Mar ID: 523392\n",
      "Processing Name: Kiama ID: 2161515\n",
      "Processing Name: Kaitangata ID: 2208248\n",
      "Processing Name: Santa Isabel Rio Negro ID: 3662489\n",
      "Processing Name: Barmstedt ID: 2952531\n",
      "Processing Name: Panguipulli ID: 3877348\n",
      "Processing Name: Lamu ID: 189741\n",
      "Processing Name: Hasaki ID: 2112802\n",
      "Processing Name: Mayor Pablo Lagerenza ID: 3867427\n",
      "Processing Name: Concepción ID: 3893894\n",
      "Processing Name: Diego de Almagro ID: 3892454\n",
      "Processing Name: Aliwal North ID: 1023309\n",
      "Processing Name: Masvingo ID: 886763\n",
      "Processing Name: Laas ID: 3175096\n",
      "Processing Name: Constantine ID: 2501152\n",
      "Processing Name: Wyndham ID: 4794814\n",
      "Processing Name: Marquette ID: 5000950\n",
      "Processing Name: Lebu ID: 3883457\n",
      "Processing Name: Arlit ID: 2447513\n",
      "Processing Name: Ābdānān ID: 145233\n",
      "Processing Name: Chui ID: 3443061\n",
      "Processing Name: Bowmore ID: 4486983\n",
      "Processing Name: Launceston ID: 2160517\n",
      "Processing Name: Osa ID: 514706\n",
      "Processing Name: Palmital ID: 3455342\n",
      "Processing Name: Vasto ID: 6538896\n",
      "Processing Name: Duluth ID: 5024719\n",
      "Processing Name: Bermeo ID: 3128174\n",
      "Processing Name: Warrington ID: 2634739\n",
      "Processing Name: Kananga ID: 214481\n",
      "Processing Name: Jalu ID: 86049\n",
      "Processing Name: Oranjestad ID: 3577154\n",
      "Processing Name: Toba ID: 1850345\n",
      "Processing Name: Bayshore Gardens ID: 4146934\n",
      "Processing Name: Aswān ID: 359792\n",
      "Processing Name: Yarmouth ID: 4956335\n",
      "Processing Name: Hirado ID: 1862555\n",
      "Processing Name: Pisco ID: 3932145\n",
      "Processing Name: Elizabeth City ID: 4465088\n",
      "Processing Name: Kulunda ID: 1501460\n",
      "Processing Name: Mossamedes ID: 3347019\n",
      "Processing Name: Zyryanka ID: 2119283\n",
      "Processing Name: Ossora ID: 2122389\n",
      "Processing Name: Kenai ID: 5866063\n",
      "Processing Name: Harper ID: 2276492\n",
      "Processing Name: Porkhov ID: 506278\n",
      "Processing Name: Yumen ID: 1528998\n",
      "--------------------------------------------------------------------\n",
      "Warning: buqayq data is unavailable\n",
      "--------------------------------------------------------------------\n",
      "Processing Name: Makokou ID: 2399371\n",
      "Processing Name: Trofors ID: 3133983\n",
      "Processing Name: Warrnambool ID: 2144528\n",
      "Processing Name: Athabasca ID: 5887916\n",
      "Processing Name: Sioux Lookout ID: 6148373\n",
      "Processing Name: Bousso ID: 2434584\n",
      "Processing Name: Rundu ID: 3353383\n",
      "Processing Name: Berezhany ID: 712374\n",
      "Processing Name: Santa Rosalía ID: 3983805\n",
      "Processing Name: Jardim ID: 3460087\n",
      "Processing Name: Muscat ID: 287286\n",
      "Processing Name: Laredo ID: 4705349\n",
      "Processing Name: Turan ID: 1583992\n",
      "Processing Name: Darnah ID: 87205\n",
      "Processing Name: Tianpeng ID: 1792916\n",
      "Processing Name: Rocha ID: 3440777\n",
      "Processing Name: Dukat ID: 2125906\n",
      "Processing Name: Chengzhong ID: 1786640\n",
      "Processing Name: Strängnäs ID: 2671392\n",
      "Processing Name: Folldal ID: 3156868\n",
      "Processing Name: Guisa ID: 3557332\n",
      "Processing Name: Keetmanshoop ID: 3356264\n",
      "Processing Name: Sabang ID: 1214026\n"
     ]
    }
   ],
   "source": [
    "lat = []\n",
    "lon = []\n",
    "max_temp = []\n",
    "humidity = []\n",
    "cld_cover = []\n",
    "wind_spd = []\n",
    "country = []\n",
    "date_time = []\n",
    "city_name = []\n",
    "\n",
    "\n",
    "for city in cities:\n",
    "    response = requests.get(query_url + city).json()\n",
    "    try:\n",
    "        wx_response = response[\"weather\"]\n",
    "    except KeyError:\n",
    "        print(f'--------------------------------------------------------------------')\n",
    "        print(f'Warning: {city} data is unavailable')\n",
    "        print(f'--------------------------------------------------------------------')\n",
    "        continue\n",
    "    lat.append(response[\"coord\"][\"lat\"])\n",
    "    lon.append(response[\"coord\"][\"lon\"])\n",
    "    max_temp.append(response[\"main\"][\"temp_max\"])\n",
    "    humidity.append(response[\"main\"][\"humidity\"])\n",
    "    cld_cover.append(response[\"clouds\"][\"all\"])\n",
    "    wind_spd.append(response[\"wind\"][\"speed\"])\n",
    "    country.append(response[\"sys\"][\"country\"])\n",
    "    date_time.append(response[\"dt\"])\n",
    "    city_name.append(response[\"name\"])\n",
    "    print(f'Processing Name: {response[\"name\"]} ID: {response[\"id\"]}')"
   ]
  },
  {
   "cell_type": "code",
   "execution_count": 5,
   "metadata": {},
   "outputs": [
    {
     "name": "stdout",
     "output_type": "stream",
     "text": [
      "561\n",
      "561\n",
      "561\n",
      "561\n",
      "561\n",
      "561\n",
      "561\n",
      "561\n",
      "6\n"
     ]
    }
   ],
   "source": [
    "print(len(lat))\n",
    "print(len(lon))\n",
    "print(len(max_temp))\n",
    "print(len(humidity))\n",
    "print(len(cld_cover))\n",
    "print(len(wind_spd))\n",
    "print(len(country))\n",
    "print(len(date_time))\n",
    "print(len(city))"
   ]
  },
  {
   "cell_type": "markdown",
   "metadata": {},
   "source": [
    "### Convert Raw Data to DataFrame\n",
    "* Export the city data into a .csv.\n",
    "* Display the DataFrame"
   ]
  },
  {
   "cell_type": "code",
   "execution_count": 6,
   "metadata": {},
   "outputs": [
    {
     "data": {
      "text/html": [
       "<div>\n",
       "<style scoped>\n",
       "    .dataframe tbody tr th:only-of-type {\n",
       "        vertical-align: middle;\n",
       "    }\n",
       "\n",
       "    .dataframe tbody tr th {\n",
       "        vertical-align: top;\n",
       "    }\n",
       "\n",
       "    .dataframe thead th {\n",
       "        text-align: right;\n",
       "    }\n",
       "</style>\n",
       "<table border=\"1\" class=\"dataframe\">\n",
       "  <thead>\n",
       "    <tr style=\"text-align: right;\">\n",
       "      <th></th>\n",
       "      <th>City</th>\n",
       "      <th>Latitude</th>\n",
       "      <th>Longitude</th>\n",
       "      <th>Max Temperature</th>\n",
       "      <th>Humidity</th>\n",
       "      <th>Cloud Cover</th>\n",
       "      <th>Wind Speed</th>\n",
       "      <th>Country</th>\n",
       "      <th>Date Time</th>\n",
       "    </tr>\n",
       "  </thead>\n",
       "  <tbody>\n",
       "    <tr>\n",
       "      <th>0</th>\n",
       "      <td>Bantou</td>\n",
       "      <td>26.2151</td>\n",
       "      <td>117.4893</td>\n",
       "      <td>60.39</td>\n",
       "      <td>87</td>\n",
       "      <td>98</td>\n",
       "      <td>2.73</td>\n",
       "      <td>CN</td>\n",
       "      <td>1615327585</td>\n",
       "    </tr>\n",
       "    <tr>\n",
       "      <th>1</th>\n",
       "      <td>Presidencia Roque Sáenz Peña</td>\n",
       "      <td>-26.7852</td>\n",
       "      <td>-60.4388</td>\n",
       "      <td>91.00</td>\n",
       "      <td>30</td>\n",
       "      <td>0</td>\n",
       "      <td>5.01</td>\n",
       "      <td>AR</td>\n",
       "      <td>1615327585</td>\n",
       "    </tr>\n",
       "    <tr>\n",
       "      <th>2</th>\n",
       "      <td>Punta Arenas</td>\n",
       "      <td>-53.1500</td>\n",
       "      <td>-70.9167</td>\n",
       "      <td>60.80</td>\n",
       "      <td>55</td>\n",
       "      <td>40</td>\n",
       "      <td>24.16</td>\n",
       "      <td>CL</td>\n",
       "      <td>1615327586</td>\n",
       "    </tr>\n",
       "    <tr>\n",
       "      <th>3</th>\n",
       "      <td>Kudahuvadhoo</td>\n",
       "      <td>2.6708</td>\n",
       "      <td>72.8944</td>\n",
       "      <td>83.21</td>\n",
       "      <td>67</td>\n",
       "      <td>99</td>\n",
       "      <td>3.27</td>\n",
       "      <td>MV</td>\n",
       "      <td>1615327586</td>\n",
       "    </tr>\n",
       "    <tr>\n",
       "      <th>4</th>\n",
       "      <td>Albany</td>\n",
       "      <td>42.6001</td>\n",
       "      <td>-73.9662</td>\n",
       "      <td>48.20</td>\n",
       "      <td>49</td>\n",
       "      <td>20</td>\n",
       "      <td>17.27</td>\n",
       "      <td>US</td>\n",
       "      <td>1615327584</td>\n",
       "    </tr>\n",
       "    <tr>\n",
       "      <th>...</th>\n",
       "      <td>...</td>\n",
       "      <td>...</td>\n",
       "      <td>...</td>\n",
       "      <td>...</td>\n",
       "      <td>...</td>\n",
       "      <td>...</td>\n",
       "      <td>...</td>\n",
       "      <td>...</td>\n",
       "      <td>...</td>\n",
       "    </tr>\n",
       "    <tr>\n",
       "      <th>556</th>\n",
       "      <td>Strängnäs</td>\n",
       "      <td>59.3774</td>\n",
       "      <td>17.0312</td>\n",
       "      <td>27.00</td>\n",
       "      <td>80</td>\n",
       "      <td>90</td>\n",
       "      <td>9.22</td>\n",
       "      <td>SE</td>\n",
       "      <td>1615327755</td>\n",
       "    </tr>\n",
       "    <tr>\n",
       "      <th>557</th>\n",
       "      <td>Folldal</td>\n",
       "      <td>62.1325</td>\n",
       "      <td>9.9968</td>\n",
       "      <td>18.10</td>\n",
       "      <td>93</td>\n",
       "      <td>57</td>\n",
       "      <td>8.59</td>\n",
       "      <td>NO</td>\n",
       "      <td>1615327755</td>\n",
       "    </tr>\n",
       "    <tr>\n",
       "      <th>558</th>\n",
       "      <td>Guisa</td>\n",
       "      <td>20.2550</td>\n",
       "      <td>-76.5386</td>\n",
       "      <td>77.00</td>\n",
       "      <td>65</td>\n",
       "      <td>40</td>\n",
       "      <td>14.97</td>\n",
       "      <td>CU</td>\n",
       "      <td>1615327756</td>\n",
       "    </tr>\n",
       "    <tr>\n",
       "      <th>559</th>\n",
       "      <td>Keetmanshoop</td>\n",
       "      <td>-26.5833</td>\n",
       "      <td>18.1333</td>\n",
       "      <td>73.40</td>\n",
       "      <td>23</td>\n",
       "      <td>0</td>\n",
       "      <td>8.05</td>\n",
       "      <td>NA</td>\n",
       "      <td>1615327756</td>\n",
       "    </tr>\n",
       "    <tr>\n",
       "      <th>560</th>\n",
       "      <td>Sabang</td>\n",
       "      <td>5.8933</td>\n",
       "      <td>95.3214</td>\n",
       "      <td>82.49</td>\n",
       "      <td>73</td>\n",
       "      <td>90</td>\n",
       "      <td>16.04</td>\n",
       "      <td>ID</td>\n",
       "      <td>1615327756</td>\n",
       "    </tr>\n",
       "  </tbody>\n",
       "</table>\n",
       "<p>561 rows × 9 columns</p>\n",
       "</div>"
      ],
      "text/plain": [
       "                             City  Latitude  Longitude  Max Temperature  \\\n",
       "0                          Bantou   26.2151   117.4893            60.39   \n",
       "1    Presidencia Roque Sáenz Peña  -26.7852   -60.4388            91.00   \n",
       "2                    Punta Arenas  -53.1500   -70.9167            60.80   \n",
       "3                    Kudahuvadhoo    2.6708    72.8944            83.21   \n",
       "4                          Albany   42.6001   -73.9662            48.20   \n",
       "..                            ...       ...        ...              ...   \n",
       "556                     Strängnäs   59.3774    17.0312            27.00   \n",
       "557                       Folldal   62.1325     9.9968            18.10   \n",
       "558                         Guisa   20.2550   -76.5386            77.00   \n",
       "559                  Keetmanshoop  -26.5833    18.1333            73.40   \n",
       "560                        Sabang    5.8933    95.3214            82.49   \n",
       "\n",
       "     Humidity  Cloud Cover  Wind Speed Country   Date Time  \n",
       "0          87           98        2.73      CN  1615327585  \n",
       "1          30            0        5.01      AR  1615327585  \n",
       "2          55           40       24.16      CL  1615327586  \n",
       "3          67           99        3.27      MV  1615327586  \n",
       "4          49           20       17.27      US  1615327584  \n",
       "..        ...          ...         ...     ...         ...  \n",
       "556        80           90        9.22      SE  1615327755  \n",
       "557        93           57        8.59      NO  1615327755  \n",
       "558        65           40       14.97      CU  1615327756  \n",
       "559        23            0        8.05      NA  1615327756  \n",
       "560        73           90       16.04      ID  1615327756  \n",
       "\n",
       "[561 rows x 9 columns]"
      ]
     },
     "execution_count": 6,
     "metadata": {},
     "output_type": "execute_result"
    }
   ],
   "source": [
    "weather_df = pd.DataFrame({\"City\": city_name,\n",
    "                           \"Latitude\": lat,\n",
    "                           \"Longitude\": lon,\n",
    "                           \"Max Temperature\": max_temp,\n",
    "                           \"Humidity\": humidity,\n",
    "                           \"Cloud Cover\": cld_cover,\n",
    "                           \"Wind Speed\": wind_spd,\n",
    "                           \"Country\": country,\n",
    "                           \"Date Time\": date_time,\n",
    "                          })\n",
    "weather_df"
   ]
  },
  {
   "cell_type": "code",
   "execution_count": 7,
   "metadata": {},
   "outputs": [],
   "source": [
    "# Export file as a CSV, without the Pandas index, but with the header\n",
    "weather_df.to_csv(\"../Output/weather.csv\", index=False, header=True)"
   ]
  },
  {
   "cell_type": "markdown",
   "metadata": {},
   "source": [
    "## Inspect the data and remove the cities where the humidity > 100%.\n",
    "----\n",
    "Skip this step if there are no cities that have humidity > 100%. "
   ]
  },
  {
   "cell_type": "code",
   "execution_count": 8,
   "metadata": {},
   "outputs": [
    {
     "data": {
      "text/html": [
       "<div>\n",
       "<style scoped>\n",
       "    .dataframe tbody tr th:only-of-type {\n",
       "        vertical-align: middle;\n",
       "    }\n",
       "\n",
       "    .dataframe tbody tr th {\n",
       "        vertical-align: top;\n",
       "    }\n",
       "\n",
       "    .dataframe thead th {\n",
       "        text-align: right;\n",
       "    }\n",
       "</style>\n",
       "<table border=\"1\" class=\"dataframe\">\n",
       "  <thead>\n",
       "    <tr style=\"text-align: right;\">\n",
       "      <th></th>\n",
       "      <th>City</th>\n",
       "      <th>Latitude</th>\n",
       "      <th>Longitude</th>\n",
       "      <th>Max Temperature</th>\n",
       "      <th>Humidity</th>\n",
       "      <th>Cloud Cover</th>\n",
       "      <th>Wind Speed</th>\n",
       "      <th>Country</th>\n",
       "      <th>Date Time</th>\n",
       "    </tr>\n",
       "  </thead>\n",
       "  <tbody>\n",
       "  </tbody>\n",
       "</table>\n",
       "</div>"
      ],
      "text/plain": [
       "Empty DataFrame\n",
       "Columns: [City, Latitude, Longitude, Max Temperature, Humidity, Cloud Cover, Wind Speed, Country, Date Time]\n",
       "Index: []"
      ]
     },
     "execution_count": 8,
     "metadata": {},
     "output_type": "execute_result"
    }
   ],
   "source": [
    "weather_df.loc[weather_df[\"Humidity\"] > 100]"
   ]
  },
  {
   "cell_type": "code",
   "execution_count": 9,
   "metadata": {},
   "outputs": [],
   "source": [
    "#  Get the indices of cities that have humidity over 100%.\n"
   ]
  },
  {
   "cell_type": "code",
   "execution_count": 10,
   "metadata": {},
   "outputs": [],
   "source": [
    "# Make a new DataFrame equal to the city data to drop all humidity outliers by index.\n",
    "# Passing \"inplace=False\" will make a copy of the city_data DataFrame, which we call \"clean_city_data\".\n"
   ]
  },
  {
   "cell_type": "code",
   "execution_count": null,
   "metadata": {},
   "outputs": [],
   "source": []
  },
  {
   "cell_type": "markdown",
   "metadata": {},
   "source": [
    "## Plotting the Data\n",
    "* Use proper labeling of the plots using plot titles (including date of analysis) and axes labels.\n",
    "* Save the plotted figures as .pngs."
   ]
  },
  {
   "cell_type": "markdown",
   "metadata": {},
   "source": [
    "## Latitude vs. Temperature Plot"
   ]
  },
  {
   "cell_type": "code",
   "execution_count": 11,
   "metadata": {
    "scrolled": true
   },
   "outputs": [
    {
     "data": {
      "image/png": "[encoded data removed]",
      "text/plain": [
       "<Figure size 432x288 with 1 Axes>"
      ]
     },
     "metadata": {
      "needs_background": "light"
     },
     "output_type": "display_data"
    }
   ],
   "source": [
    "# Scatter plot\n",
    "x = weather_df[\"Latitude\"]\n",
    "y = weather_df[\"Max Temperature\"]\n",
    "plt.scatter(x,y)\n",
    "plt.title(\"Max Temperature vs. Latitude\")\n",
    "plt.ylabel(\"Max Temperature\")\n",
    "plt.xlabel(\"Latitude\")\n",
    "plt.savefig(\"../Output/Max_Temperature_vs._Latitude.png\")"
   ]
  },
  {
   "cell_type": "markdown",
   "metadata": {},
   "source": [
    "## Latitude vs. Humidity Plot"
   ]
  },
  {
   "cell_type": "code",
   "execution_count": 12,
   "metadata": {},
   "outputs": [
    {
     "data": {
      "image/png": "[encoded data removed]",
      "text/plain": [
       "<Figure size 432x288 with 1 Axes>"
      ]
     },
     "metadata": {
      "needs_background": "light"
     },
     "output_type": "display_data"
    }
   ],
   "source": [
    "# Scatter plot\n",
    "x = weather_df[\"Latitude\"]\n",
    "y = weather_df[\"Humidity\"]\n",
    "plt.scatter(x,y)\n",
    "plt.title(\"Humidity vs. Latitude\")\n",
    "plt.ylabel(\"Humidity\")\n",
    "plt.xlabel(\"Latitude\")\n",
    "plt.savefig(\"../Output/Humidity_vs._Latitude.png\")"
   ]
  },
  {
   "cell_type": "markdown",
   "metadata": {},
   "source": [
    "## Latitude vs. Cloudiness Plot"
   ]
  },
  {
   "cell_type": "code",
   "execution_count": 13,
   "metadata": {},
   "outputs": [
    {
     "data": {
      "image/png": "[encoded data removed]",
      "text/plain": [
       "<Figure size 432x288 with 1 Axes>"
      ]
     },
     "metadata": {
      "needs_background": "light"
     },
     "output_type": "display_data"
    }
   ],
   "source": [
    "# Scatter plot\n",
    "x = weather_df[\"Latitude\"]\n",
    "y = weather_df[\"Cloud Cover\"]\n",
    "plt.scatter(x,y)\n",
    "plt.title(\"Cloud Cover vs. Latitude\")\n",
    "plt.ylabel(\"Cloud Cover\")\n",
    "plt.xlabel(\"Latitude\")\n",
    "plt.savefig(\"../Output/Cloud_Cover_vs._Latitude.png\")"
   ]
  },
  {
   "cell_type": "markdown",
   "metadata": {},
   "source": [
    "## Latitude vs. Wind Speed Plot"
   ]
  },
  {
   "cell_type": "code",
   "execution_count": 14,
   "metadata": {},
   "outputs": [
    {
     "data": {
      "image/png": "[encoded data removed]",
      "text/plain": [
       "<Figure size 432x288 with 1 Axes>"
      ]
     },
     "metadata": {
      "needs_background": "light"
     },
     "output_type": "display_data"
    }
   ],
   "source": [
    "# Scatter plot\n",
    "x = weather_df[\"Latitude\"]\n",
    "y = weather_df[\"Wind Speed\"]\n",
    "plt.scatter(x,y)\n",
    "plt.title(\"Wind Speed vs. Latitude\")\n",
    "plt.ylabel(\"Wind Speed\")\n",
    "plt.xlabel(\"Latitude\")\n",
    "plt.savefig(\"../Output/Wind_Speed_vs._Latitude.png\")"
   ]
  },
  {
   "cell_type": "markdown",
   "metadata": {},
   "source": [
    "## Linear Regression"
   ]
  },
  {
   "cell_type": "code",
   "execution_count": 15,
   "metadata": {},
   "outputs": [],
   "source": [
    "n_hem_df = weather_df.loc[weather_df[\"Latitude\"] > 0]\n",
    "s_hem_df = weather_df.loc[weather_df[\"Latitude\"] < 0]"
   ]
  },
  {
   "cell_type": "markdown",
   "metadata": {},
   "source": [
    "####  Northern Hemisphere - Max Temp vs. Latitude Linear Regression"
   ]
  },
  {
   "cell_type": "code",
   "execution_count": 16,
   "metadata": {},
   "outputs": [
    {
     "data": {
      "image/png": "[encoded data removed]",
      "text/plain": [
       "<Figure size 432x288 with 1 Axes>"
      ]
     },
     "metadata": {
      "needs_background": "light"
     },
     "output_type": "display_data"
    },
    {
     "name": "stdout",
     "output_type": "stream",
     "text": [
      "The correlation between both factors is -0.9\n"
     ]
    }
   ],
   "source": [
    "# correlation and linear regression scatter plot\n",
    "# declare variables for x and y\n",
    "x = n_hem_df[\"Latitude\"]\n",
    "y = n_hem_df[\"Max Temperature\"]\n",
    "\n",
    "# Calculate Correlation\n",
    "correlation = st.pearsonr(x,y)\n",
    "\n",
    "# calc line for linear regression\n",
    "(slope, intercept, rvalue, pvalue, stderr) = linregress(x, y)\n",
    "regress_values = x * slope + intercept\n",
    "line_eq = f\"y= {slope:.2f}x {'+' if intercept > 0 else ''} {intercept:.2f}\"\n",
    "\n",
    "# Scatter plot chart with line \n",
    "plt.scatter(x,y)\n",
    "plt.plot(x,regress_values,\"r-\")\n",
    "plt.annotate(line_eq,(10,-10),fontsize=12,color=\"red\")\n",
    "plt.title(\"Max Temperature vs. Latitude\")\n",
    "plt.ylabel(\"Max Temperature\")\n",
    "plt.xlabel(\"Latitude\")\n",
    "plt.savefig(\"../Output/NHLR_Max_Temperature_vs._Latitude.png\")\n",
    "plt.show()\n",
    "\n",
    "# Print Correlation\n",
    "print(f\"The correlation between both factors is {round(correlation[0],2)}\")"
   ]
  },
  {
   "cell_type": "markdown",
   "metadata": {},
   "source": [
    "####  Southern Hemisphere - Max Temp vs. Latitude Linear Regression"
   ]
  },
  {
   "cell_type": "code",
   "execution_count": 24,
   "metadata": {},
   "outputs": [
    {
     "data": {
      "image/png": "[encoded data removed]",
      "text/plain": [
       "<Figure size 432x288 with 1 Axes>"
      ]
     },
     "metadata": {
      "needs_background": "light"
     },
     "output_type": "display_data"
    },
    {
     "name": "stdout",
     "output_type": "stream",
     "text": [
      "The correlation between both factors is 0.55\n"
     ]
    }
   ],
   "source": [
    "# correlation and linear regression scatter plot\n",
    "# declare variables for x and y\n",
    "x = s_hem_df[\"Latitude\"]\n",
    "y = s_hem_df[\"Max Temperature\"]\n",
    "\n",
    "# Calculate Correlation\n",
    "correlation = st.pearsonr(x,y)\n",
    "\n",
    "# calc line for linear regression\n",
    "(slope, intercept, rvalue, pvalue, stderr) = linregress(x, y)\n",
    "regress_values = x * slope + intercept\n",
    "line_eq = f\"y= {slope:.2f}x {'+' if intercept > 0 else ''} {intercept:.2f}\"\n",
    "\n",
    "# Scatter plot chart with line \n",
    "plt.scatter(x,y)\n",
    "plt.plot(x,regress_values,\"r-\")\n",
    "plt.annotate(line_eq,(-50,85),fontsize=12,color=\"red\")\n",
    "plt.title(\"Max Temperature vs. Latitude\")\n",
    "plt.ylabel(\"Max Temperature\")\n",
    "plt.xlabel(\"Latitude\")\n",
    "plt.savefig(\"../Output/SHLR_Max_Temperature_vs._Latitude.png\")\n",
    "plt.show()\n",
    "\n",
    "# Print Correlation\n",
    "print(f\"The correlation between both factors is {round(correlation[0],2)}\")"
   ]
  },
  {
   "cell_type": "markdown",
   "metadata": {},
   "source": [
    "####  Northern Hemisphere - Humidity (%) vs. Latitude Linear Regression"
   ]
  },
  {
   "cell_type": "code",
   "execution_count": 18,
   "metadata": {},
   "outputs": [
    {
     "data": {
      "image/png": "[encoded data removed]",
      "text/plain": [
       "<Figure size 432x288 with 1 Axes>"
      ]
     },
     "metadata": {
      "needs_background": "light"
     },
     "output_type": "display_data"
    },
    {
     "name": "stdout",
     "output_type": "stream",
     "text": [
      "The correlation between both factors is 0.25\n"
     ]
    }
   ],
   "source": [
    "# correlation and linear regression scatter plot\n",
    "# declare variables for x and y\n",
    "x = n_hem_df[\"Latitude\"]\n",
    "y = n_hem_df[\"Humidity\"]\n",
    "\n",
    "# Calculate Correlation\n",
    "correlation = st.pearsonr(x,y)\n",
    "\n",
    "# calc line for linear regression\n",
    "(slope, intercept, rvalue, pvalue, stderr) = linregress(x, y)\n",
    "regress_values = x * slope + intercept\n",
    "line_eq = f\"y= {slope:.2f}x {'+' if intercept > 0 else ''} {intercept:.2f}\"\n",
    "\n",
    "# Scatter plot chart with line \n",
    "plt.scatter(x,y)\n",
    "plt.plot(x,regress_values,\"r-\")\n",
    "plt.annotate(line_eq,(50,15),fontsize=12,color=\"red\")\n",
    "plt.title(\"Humidity vs. Latitude\")\n",
    "plt.ylabel(\"Humidity\")\n",
    "plt.xlabel(\"Latitude\")\n",
    "plt.savefig(\"../Output/NHLR_Humidity_vs._Latitude.png\")\n",
    "plt.show()\n",
    "\n",
    "# Print Correlation\n",
    "print(f\"The correlation between both factors is {round(correlation[0],2)}\")"
   ]
  },
  {
   "cell_type": "markdown",
   "metadata": {},
   "source": [
    "####  Southern Hemisphere - Humidity (%) vs. Latitude Linear Regression"
   ]
  },
  {
   "cell_type": "code",
   "execution_count": 25,
   "metadata": {},
   "outputs": [
    {
     "data": {
      "image/png": "[encoded data removed]",
      "text/plain": [
       "<Figure size 432x288 with 1 Axes>"
      ]
     },
     "metadata": {
      "needs_background": "light"
     },
     "output_type": "display_data"
    },
    {
     "name": "stdout",
     "output_type": "stream",
     "text": [
      "The correlation between both factors is 0.26\n"
     ]
    }
   ],
   "source": [
    "# correlation and linear regression scatter plot\n",
    "# declare variables for x and y\n",
    "x = s_hem_df[\"Latitude\"]\n",
    "y = s_hem_df[\"Humidity\"]\n",
    "\n",
    "# Calculate Correlation\n",
    "correlation = st.pearsonr(x,y)\n",
    "\n",
    "# calc line for linear regression\n",
    "(slope, intercept, rvalue, pvalue, stderr) = linregress(x, y)\n",
    "regress_values = x * slope + intercept\n",
    "line_eq = f\"y= {slope:.2f}x {'+' if intercept > 0 else ''} {intercept:.2f}\"\n",
    "\n",
    "# Scatter plot chart with line \n",
    "plt.scatter(x,y)\n",
    "plt.plot(x,regress_values,\"r-\")\n",
    "plt.annotate(line_eq,(-20,40),fontsize=12,color=\"red\")\n",
    "plt.title(\"Humidity vs. Latitude\")\n",
    "plt.ylabel(\"Humidity\")\n",
    "plt.xlabel(\"Latitude\")\n",
    "plt.savefig(\"../Output/SHLR_Humidity_vs._Latitude.png\")\n",
    "plt.show()\n",
    "\n",
    "# Print Correlation\n",
    "print(f\"The correlation between both factors is {round(correlation[0],2)}\")"
   ]
  },
  {
   "cell_type": "markdown",
   "metadata": {},
   "source": [
    "####  Northern Hemisphere - Cloudiness (%) vs. Latitude Linear Regression"
   ]
  },
  {
   "cell_type": "code",
   "execution_count": 27,
   "metadata": {},
   "outputs": [
    {
     "data": {
      "image/png": "[encoded data removed]",
      "text/plain": [
       "<Figure size 432x288 with 1 Axes>"
      ]
     },
     "metadata": {
      "needs_background": "light"
     },
     "output_type": "display_data"
    },
    {
     "name": "stdout",
     "output_type": "stream",
     "text": [
      "The correlation between both factors is 0.22\n"
     ]
    }
   ],
   "source": [
    "# correlation and linear regression scatter plot\n",
    "# declare variables for x and y\n",
    "x = n_hem_df[\"Latitude\"]\n",
    "y = n_hem_df[\"Cloud Cover\"]\n",
    "\n",
    "# Calculate Correlation\n",
    "correlation = st.pearsonr(x,y)\n",
    "\n",
    "# calc line for linear regression\n",
    "(slope, intercept, rvalue, pvalue, stderr) = linregress(x, y)\n",
    "regress_values = x * slope + intercept\n",
    "line_eq = f\"y= {slope:.2f}x {'+' if intercept > 0 else ''} {intercept:.2f}\"\n",
    "\n",
    "# Scatter plot chart with line \n",
    "plt.scatter(x,y)\n",
    "plt.plot(x,regress_values,\"r-\")\n",
    "plt.annotate(line_eq,(50,32),fontsize=12,color=\"red\")\n",
    "plt.title(\"Cloud Cover vs. Latitude\")\n",
    "plt.ylabel(\"Cloud Cover\")\n",
    "plt.xlabel(\"Latitude\")\n",
    "plt.savefig(\"../Output/NHLR_Cloud_Cover_vs._Latitude.png\")\n",
    "plt.show()\n",
    "\n",
    "# Print Correlation\n",
    "print(f\"The correlation between both factors is {round(correlation[0],2)}\")"
   ]
  },
  {
   "cell_type": "markdown",
   "metadata": {},
   "source": [
    "####  Southern Hemisphere - Cloudiness (%) vs. Latitude Linear Regression"
   ]
  },
  {
   "cell_type": "code",
   "execution_count": 28,
   "metadata": {},
   "outputs": [
    {
     "data": {
      "image/png": "[encoded data removed]",
      "text/plain": [
       "<Figure size 432x288 with 1 Axes>"
      ]
     },
     "metadata": {
      "needs_background": "light"
     },
     "output_type": "display_data"
    },
    {
     "name": "stdout",
     "output_type": "stream",
     "text": [
      "The correlation between both factors is 0.09\n"
     ]
    }
   ],
   "source": [
    "# correlation and linear regression scatter plot\n",
    "# declare variables for x and y\n",
    "x = s_hem_df[\"Latitude\"]\n",
    "y = s_hem_df[\"Cloud Cover\"]\n",
    "\n",
    "# Calculate Correlation\n",
    "correlation = st.pearsonr(x,y)\n",
    "\n",
    "# calc line for linear regression\n",
    "(slope, intercept, rvalue, pvalue, stderr) = linregress(x, y)\n",
    "regress_values = x * slope + intercept\n",
    "line_eq = f\"y= {slope:.2f}x {'+' if intercept > 0 else ''} {intercept:.2f}\"\n",
    "\n",
    "# Scatter plot chart with line \n",
    "plt.scatter(x,y)\n",
    "plt.plot(x,regress_values,\"r-\")\n",
    "plt.annotate(line_eq,(-54,25),fontsize=12,color=\"red\")\n",
    "plt.title(\"Cloud Cover vs. Latitude\")\n",
    "plt.ylabel(\"Cloud Cover\")\n",
    "plt.xlabel(\"Latitude\")\n",
    "plt.savefig(\"../Output/SHLR_Cloud_Cover_vs._Latitude.png\")\n",
    "plt.show()\n",
    "\n",
    "# Print Correlation\n",
    "print(f\"The correlation between both factors is {round(correlation[0],2)}\")"
   ]
  },
  {
   "cell_type": "markdown",
   "metadata": {},
   "source": [
    "####  Northern Hemisphere - Wind Speed (mph) vs. Latitude Linear Regression"
   ]
  },
  {
   "cell_type": "code",
   "execution_count": 29,
   "metadata": {},
   "outputs": [
    {
     "data": {
      "image/png": "[encoded data removed]",
      "text/plain": [
       "<Figure size 432x288 with 1 Axes>"
      ]
     },
     "metadata": {
      "needs_background": "light"
     },
     "output_type": "display_data"
    },
    {
     "name": "stdout",
     "output_type": "stream",
     "text": [
      "The correlation between both factors is 0.02\n"
     ]
    }
   ],
   "source": [
    "# correlation and linear regression scatter plot\n",
    "# declare variables for x and y\n",
    "x = n_hem_df[\"Latitude\"]\n",
    "y = n_hem_df[\"Wind Speed\"]\n",
    "\n",
    "# Calculate Correlation\n",
    "correlation = st.pearsonr(x,y)\n",
    "\n",
    "# calc line for linear regression\n",
    "(slope, intercept, rvalue, pvalue, stderr) = linregress(x, y)\n",
    "regress_values = x * slope + intercept\n",
    "line_eq = f\"y= {slope:.2f}x {'+' if intercept > 0 else ''} {intercept:.2f}\"\n",
    "\n",
    "# Scatter plot chart with line \n",
    "plt.scatter(x,y)\n",
    "plt.plot(x,regress_values,\"r-\")\n",
    "plt.annotate(line_eq,(10,32),fontsize=12,color=\"red\")\n",
    "plt.title(\"Wind Speed vs. Latitude\")\n",
    "plt.ylabel(\"Wind Speed\")\n",
    "plt.xlabel(\"Latitude\")\n",
    "plt.savefig(\"../Output/NHLR_Wind_Speed_vs._Latitude.png\")\n",
    "plt.show()\n",
    "\n",
    "# Print Correlation\n",
    "print(f\"The correlation between both factors is {round(correlation[0],2)}\")"
   ]
  },
  {
   "cell_type": "markdown",
   "metadata": {},
   "source": [
    "####  Southern Hemisphere - Wind Speed (mph) vs. Latitude Linear Regression"
   ]
  },
  {
   "cell_type": "code",
   "execution_count": 30,
   "metadata": {},
   "outputs": [
    {
     "data": {
      "image/png": "[encoded data removed]",
      "text/plain": [
       "<Figure size 432x288 with 1 Axes>"
      ]
     },
     "metadata": {
      "needs_background": "light"
     },
     "output_type": "display_data"
    },
    {
     "name": "stdout",
     "output_type": "stream",
     "text": [
      "The correlation between both factors is -0.2\n"
     ]
    }
   ],
   "source": [
    "# correlation and linear regression scatter plot\n",
    "# declare variables for x and y\n",
    "x = s_hem_df[\"Latitude\"]\n",
    "y = s_hem_df[\"Wind Speed\"]\n",
    "\n",
    "# Calculate Correlation\n",
    "correlation = st.pearsonr(x,y)\n",
    "\n",
    "# calc line for linear regression\n",
    "(slope, intercept, rvalue, pvalue, stderr) = linregress(x, y)\n",
    "regress_values = x * slope + intercept\n",
    "line_eq = f\"y= {slope:.2f}x {'+' if intercept > 0 else ''} {intercept:.2f}\"\n",
    "\n",
    "# Scatter plot chart with line \n",
    "plt.scatter(x,y)\n",
    "plt.plot(x,regress_values,\"r-\")\n",
    "plt.annotate(line_eq,(-25,21),fontsize=12,color=\"red\")\n",
    "plt.title(\"Wind Speed vs. Latitude\")\n",
    "plt.ylabel(\"Wind Speed\")\n",
    "plt.xlabel(\"Latitude\")\n",
    "plt.savefig(\"../Output/SHLR_Wind_Speed_vs._Latitude.png\")\n",
    "plt.show()\n",
    "\n",
    "# Print Correlation\n",
    "print(f\"The correlation between both factors is {round(correlation[0],2)}\")"
   ]
  },
  {
   "cell_type": "code",
   "execution_count": null,
   "metadata": {},
   "outputs": [],
   "source": []
  },
  {
   "cell_type": "code",
   "execution_count": null,
   "metadata": {},
   "outputs": [],
   "source": []
  }
 ],
 "metadata": {
  "anaconda-cloud": {},
  "kernel_info": {
   "name": "python3"
  },
  "kernelspec": {
   "display_name": "Python 3",
   "language": "python",
   "name": "python3"
  },
  "language_info": {
   "codemirror_mode": {
    "name": "ipython",
    "version": 3
   },
   "file_extension": ".py",
   "mimetype": "text/x-python",
   "name": "python",
   "nbconvert_exporter": "python",
   "pygments_lexer": "ipython3",
   "version": "3.8.5"
  },
  "latex_envs": {
   "LaTeX_envs_menu_present": true,
   "autoclose": false,
   "autocomplete": true,
   "bibliofile": "biblio.bib",
   "cite_by": "apalike",
   "current_citInitial": 1,
   "eqLabelWithNumbers": true,
   "eqNumInitial": 1,
   "hotkeys": {
    "equation": "Ctrl-E",
    "itemize": "Ctrl-I"
   },
   "labels_anchors": false,
   "latex_user_defs": false,
   "report_style_numbering": false,
   "user_envs_cfg": false
  },
  "nteract": {
   "version": "0.12.3"
  }
 },
 "nbformat": 4,
 "nbformat_minor": 4
}
